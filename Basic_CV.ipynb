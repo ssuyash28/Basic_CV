{
 "cells": [
  {
   "cell_type": "code",
   "execution_count": null,
   "metadata": {
    "collapsed": true
   },
   "outputs": [],
   "source": [
    "image_data2=[]\n",
    "for file in os.listdir('.\\\\notMNIST_large\\\\B')[1:10]:\n",
    "    image=(ndimage.imread('.\\\\notMNIST_large\\\\B\\\\'+file).astype(float)-pixel_depth / 2) / pixel_depth\n",
    "    image2=[]\n",
    "    for i in range(0,28):\n",
    "        for j in range(0,28):\n",
    "            image2.append(image[i][j])\n",
    "            \n",
    "    image_data2.append(image2)"
   ]
  },
  {
   "cell_type": "code",
   "execution_count": null,
   "metadata": {
    "collapsed": true
   },
   "outputs": [],
   "source": [
    "image_data=[]\n",
    "for file in os.listdir('.\\\\notMNIST_large\\\\A')[1:10]:\n",
    "    image=(ndimage.imread('.\\\\notMNIST_large\\\\A\\\\'+file).astype(float)-pixel_depth / 2) / pixel_depth\n",
    "    image2=[]\n",
    "    for i in range(0,28):\n",
    "        for j in range(0,28):\n",
    "            image2.append(image[i][j])\n",
    "            \n",
    "    image_data.append(image2)"
   ]
  },
  {
   "cell_type": "code",
   "execution_count": null,
   "metadata": {
    "collapsed": true
   },
   "outputs": [],
   "source": [
    "image_data3=image_data+image_data2"
   ]
  },
  {
   "cell_type": "code",
   "execution_count": null,
   "metadata": {
    "collapsed": true
   },
   "outputs": [],
   "source": [
    "from sklearn.tree import DecisionTreeClassifier\n",
    "cls=DecisionTreeClassifier()\n",
    "cls.fit(image_data3,[\"a\",\"a\",\"a\",\"a\",\"a\",\"a\",\"a\",\"a\",\"a\",\"b\",\"b\",\"b\",\"b\",\"b\",\"b\",\"b\",\"b\",\"b\"])"
   ]
  },
  {
   "cell_type": "code",
   "execution_count": null,
   "metadata": {
    "collapsed": true
   },
   "outputs": [],
   "source": [
    "image_datax=[]\n",
    "image=(ndimage.imread('.\\\\notMNIST_large\\\\A\\\\aG9tZXdvcmsgc21hcnQudHRm.png').astype(float)-pixel_depth / 2) / pixel_depth\n",
    "image2=[]\n",
    "for i in range(0,28):\n",
    "    for j in range(0,28):\n",
    "        image2.append(image[i][j])\n",
    "            \n",
    "image_datax.append(image2)"
   ]
  },
  {
   "cell_type": "code",
   "execution_count": null,
   "metadata": {
    "collapsed": true
   },
   "outputs": [],
   "source": [
    "cls.predict(image_datax)"
   ]
  }
 ],
 "metadata": {
  "kernelspec": {
   "display_name": "Python 3",
   "language": "python",
   "name": "python3"
  },
  "language_info": {
   "codemirror_mode": {
    "name": "ipython",
    "version": 3
   },
   "file_extension": ".py",
   "mimetype": "text/x-python",
   "name": "python",
   "nbconvert_exporter": "python",
   "pygments_lexer": "ipython3",
   "version": "3.6.0"
  }
 },
 "nbformat": 4,
 "nbformat_minor": 2
}
